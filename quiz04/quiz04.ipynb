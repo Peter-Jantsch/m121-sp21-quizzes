{
 "cells": [
  {
   "cell_type": "code",
   "execution_count": null,
   "metadata": {},
   "outputs": [],
   "source": [
    "# Initialize OK\n",
    "from client.api.notebook import Notebook\n",
    "ok = Notebook('quiz04.ok')"
   ]
  },
  {
   "cell_type": "code",
   "execution_count": null,
   "metadata": {},
   "outputs": [],
   "source": [
    "# Don't change this cell; just run it. \n",
    "# When you log-in please hit return (not shift + return) after typing in your email\n",
    "from client.api.notebook import Notebook\n",
    "import feedback\n",
    "from datascience import *\n",
    "ok = Notebook('quiz04.ok')"
   ]
  },
  {
   "cell_type": "markdown",
   "metadata": {},
   "source": [
    "# Quiz 4"
   ]
  },
  {
   "cell_type": "markdown",
   "metadata": {},
   "source": [
    "### **Note**: Some questions have feedback that will guide you to the correct answer, while others will have hidden tests that do not provide feedback. For those that do not have feedback, the `ok.grade` cell will say 100% passed, as long as you put one of the possible choices. **100% passed does not necessarily mean you got the question right!**\n",
    "\n",
    "\n",
    "**Submission**: Once you're finished, select \"Save and Checkpoint\" in the File menu and then run the submit cell at the end. The result will contain a link that you can use to check that your assignment has been submitted successfully. "
   ]
  },
  {
   "cell_type": "markdown",
   "metadata": {},
   "source": [
    "**A. Which statement is true about this conversion? Assign `answer_A` to 1, 2, or 3.**\n",
    "\n",
    "`int(1.2)`\n",
    "\n",
    "<ol>\n",
    "    <li>Converting a float to an integer causes an error</li>\n",
    "    <li>Converting a float to an integer causes a loss of information</li>\n",
    "    <li>Converting a float to an integer results in the same exact number</li>\n",
    "</ol>\n",
    "\n",
    "<!--\n",
    "BEGIN QUESTION\n",
    "name: qA\n",
    "manual: false\n",
    "-->"
   ]
  },
  {
   "cell_type": "code",
   "execution_count": null,
   "metadata": {},
   "outputs": [],
   "source": [
    "answer_A = ..."
   ]
  },
  {
   "cell_type": "code",
   "execution_count": null,
   "metadata": {},
   "outputs": [],
   "source": [
    "ok.grade(\"qA\");"
   ]
  },
  {
   "cell_type": "markdown",
   "metadata": {},
   "source": [
    "**B. Assume that you have run the following statements**\n",
    "```\n",
    "x = 3\n",
    "y = \"4\"\n",
    "z = \"5.6\"\n",
    "```\n",
    "\n",
    "**Which expression would *not* cause an error? Assign `answer_B` 1,2,3, or 4.**\n",
    "\n",
    "1. `x + y`\n",
    "2.  `str(x) + int(y)`\n",
    "3. `y + z`\n",
    "4.  `str(x, y) + z`\n",
    "\n",
    "<!--\n",
    "BEGIN QUESTION\n",
    "name: qB\n",
    "manual: false\n",
    "-->"
   ]
  },
  {
   "cell_type": "code",
   "execution_count": null,
   "metadata": {},
   "outputs": [],
   "source": [
    "answer_B = ..."
   ]
  },
  {
   "cell_type": "code",
   "execution_count": null,
   "metadata": {},
   "outputs": [],
   "source": [
    "ok.grade(\"qB\");"
   ]
  },
  {
   "cell_type": "markdown",
   "metadata": {},
   "source": [
    "Consider the following table `temperatures`:\n",
    "\n",
    "| Date       | min_temp | max_temp |\n",
    "|------------|----------|----------|\n",
    "| 2020-05-01 | 44       | 68       |\n",
    "| 2020-05-02 | 49       | 72       |\n",
    "| 2020-05-03 | 45       | 67       |\n",
    "| 2020-05-04 | 47       | 66       |\n",
    "| 2020-05-05 | 48       | 64       |\n",
    "| 2020-05-06 | 42       | 62       |\n",
    "| 2020-05-07 | 50       | 65       |\n",
    "\n",
    "**C. What is the result of the following code? Assign `answer_C` to your answer (i.e. if your answer is 8, then replace the `...` with the number 8).** \n",
    "\n",
    "*Hint: You answer should be an integer.*\n",
    "\n",
    "```\n",
    "temperatures.where(\"min_temp\", are.below(47)).num_rows\n",
    "```\n",
    "\n",
    "<!--\n",
    "BEGIN QUESTION\n",
    "name: qA\n",
    "manual: false\n",
    "-->"
   ]
  },
  {
   "cell_type": "code",
   "execution_count": null,
   "metadata": {},
   "outputs": [],
   "source": [
    "answer_C = ..."
   ]
  },
  {
   "cell_type": "code",
   "execution_count": null,
   "metadata": {},
   "outputs": [],
   "source": [
    "ok.grade(\"qC\");"
   ]
  },
  {
   "cell_type": "code",
   "execution_count": null,
   "metadata": {},
   "outputs": [],
   "source": [
    "_ = ok.submit()"
   ]
  },
  {
   "cell_type": "code",
   "execution_count": null,
   "metadata": {},
   "outputs": [],
   "source": []
  }
 ],
 "metadata": {
  "kernelspec": {
   "display_name": "Python 3",
   "language": "python",
   "name": "python3"
  },
  "language_info": {
   "codemirror_mode": {
    "name": "ipython",
    "version": 3
   },
   "file_extension": ".py",
   "mimetype": "text/x-python",
   "name": "python",
   "nbconvert_exporter": "python",
   "pygments_lexer": "ipython3",
   "version": "3.8.5"
  }
 },
 "nbformat": 4,
 "nbformat_minor": 1
}

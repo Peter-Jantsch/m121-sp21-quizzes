{
 "cells": [
  {
   "cell_type": "code",
   "execution_count": null,
   "metadata": {},
   "outputs": [],
   "source": [
    "# Initialize OK\n",
    "from client.api.notebook import Notebook\n",
    "ok = Notebook('quiz22.ok')"
   ]
  },
  {
   "cell_type": "markdown",
   "metadata": {},
   "source": [
    "## Quiz 22"
   ]
  },
  {
   "cell_type": "code",
   "execution_count": 16,
   "metadata": {},
   "outputs": [],
   "source": [
    "from datascience import *\n",
    "import numpy as np\n",
    "import feedback\n",
    "%matplotlib inline\n",
    "from client.api.notebook import Notebook\n",
    "ok = Notebook('quiz22.ok')"
   ]
  },
  {
   "cell_type": "markdown",
   "metadata": {},
   "source": [
    "**A. Which of the following are described by the Central Limit Theorem? Assign answer_A to an array with all the true statements.**\n",
    "​\n",
    "<ol>\n",
    "    <li>We would expect the empirical distribution of a large random sample to resemble the distribution of the population from which the sample was drawn</li>\n",
    "    <li>If we take many large random samples, the distribution of the sample sums (or means) would be normal only if the original population distribution were normal </li>\n",
    "    <li>If we take many large random samples, the distribution of the sample sums (or means) would be normal, regardless of the distribution of the original population</li>\n",
    "    <li>The sample must be large and drawn at random with replacement in order for the CLT to apply </li>\n",
    "</ol>\n",
    "\n",
    "<!--\n",
    "BEGIN QUESTION\n",
    "name: qA\n",
    "manual: false\n",
    "-->"
   ]
  },
  {
   "cell_type": "code",
   "execution_count": 3,
   "metadata": {},
   "outputs": [],
   "source": [
    "answer_A = make_array(...)"
   ]
  },
  {
   "cell_type": "code",
   "execution_count": null,
   "metadata": {},
   "outputs": [],
   "source": [
    "ok.grade(\"qA\");"
   ]
  },
  {
   "cell_type": "markdown",
   "metadata": {},
   "source": [
    "**B. Imagine that we are looking at 1 bed 1 bath apartments in the Wheaton area. Let's say that the empirical distribution of the mean square footage generated via bootstrapping is roughly normal with a mean of 883 sqft and a standard deviation of 270 sqft. What range of square footage values would contain 95% of the data?**\n",
    "\n",
    "*Feel free to do calculations in a new cell, but make sure to assign your final answer choice to `answer_B`*\n",
    " \n",
    "\n",
    "<ol>\n",
    "    <li>[44, 838]</li>\n",
    "    <li>[13.5, 256.5]</li>\n",
    "    <li>[343, 1423]</li>\n",
    "    <li>None of the above</li>\n",
    "</ol>\n",
    "\n",
    "<!--\n",
    "BEGIN QUESTION\n",
    "name: qB\n",
    "manual: false\n",
    "-->"
   ]
  },
  {
   "cell_type": "code",
   "execution_count": 19,
   "metadata": {},
   "outputs": [],
   "source": [
    "answer_B = ..."
   ]
  },
  {
   "cell_type": "code",
   "execution_count": null,
   "metadata": {},
   "outputs": [],
   "source": [
    "ok.grade(\"qB\");"
   ]
  },
  {
   "cell_type": "markdown",
   "metadata": {},
   "source": [
    "**C. Jay thinks that a larger sample size would result in a narrower distribution of the sample mean, but Beth thinks that it would result in a wider distribution because there are more data points. Who do you think is right?**\n",
    "\n",
    "*Hint: Recall the formula for the SD of all possible sample means. Also think about how the standard deviation relates to the spread of the distribution.*\n",
    "\n",
    "1. Jay\n",
    "2. Beth\n",
    "\n",
    "<!--\n",
    "BEGIN QUESTION\n",
    "name: qC\n",
    "manual: false\n",
    "-->"
   ]
  },
  {
   "cell_type": "code",
   "execution_count": 3,
   "metadata": {},
   "outputs": [],
   "source": [
    "answer_C = ..."
   ]
  },
  {
   "cell_type": "code",
   "execution_count": null,
   "metadata": {},
   "outputs": [],
   "source": [
    "ok.grade(\"qC\");"
   ]
  },
  {
   "cell_type": "markdown",
   "metadata": {},
   "source": [
    "***\n",
    "\n",
    "**D. True or false: there is no way for us to measure how accurate the sample mean is as an estimate of the population mean.**\n",
    "\n",
    "1. True\n",
    "2. False\n",
    "\n",
    "<!--\n",
    "BEGIN QUESTION\n",
    "name: qD\n",
    "manual: false\n",
    "-->"
   ]
  },
  {
   "cell_type": "code",
   "execution_count": 6,
   "metadata": {},
   "outputs": [],
   "source": [
    "answer_D = ..."
   ]
  },
  {
   "cell_type": "code",
   "execution_count": null,
   "metadata": {},
   "outputs": [],
   "source": [
    "ok.grade(\"qD\");"
   ]
  },
  {
   "cell_type": "markdown",
   "metadata": {},
   "source": [
    "## Run the submit cell to receive credit!"
   ]
  },
  {
   "cell_type": "code",
   "execution_count": 21,
   "metadata": {},
   "outputs": [],
   "source": [
    "_ = ok.submit()"
   ]
  },
  {
   "cell_type": "code",
   "execution_count": null,
   "metadata": {},
   "outputs": [],
   "source": []
  }
 ],
 "metadata": {
  "kernelspec": {
   "display_name": "Python 3",
   "language": "python",
   "name": "python3"
  },
  "language_info": {
   "codemirror_mode": {
    "name": "ipython",
    "version": 3
   },
   "file_extension": ".py",
   "mimetype": "text/x-python",
   "name": "python",
   "nbconvert_exporter": "python",
   "pygments_lexer": "ipython3",
   "version": "3.8.5"
  }
 },
 "nbformat": 4,
 "nbformat_minor": 1
}

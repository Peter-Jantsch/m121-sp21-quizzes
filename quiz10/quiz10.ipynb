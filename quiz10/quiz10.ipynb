{
 "cells": [
  {
   "cell_type": "code",
   "execution_count": null,
   "metadata": {},
   "outputs": [],
   "source": [
    "# Initialize OK\n",
    "from client.api.notebook import Notebook\n",
    "ok = Notebook('quiz10.ok')"
   ]
  },
  {
   "cell_type": "markdown",
   "metadata": {},
   "source": [
    "## Quiz 10"
   ]
  },
  {
   "cell_type": "code",
   "execution_count": null,
   "metadata": {},
   "outputs": [],
   "source": [
    "from datascience import *\n",
    "import numpy as np\n",
    "import feedback\n",
    "%matplotlib inline\n",
    "from client.api.notebook import Notebook\n",
    "ok = Notebook('quiz10.ok')"
   ]
  },
  {
   "cell_type": "markdown",
   "metadata": {},
   "source": [
    "### **Note**: Some questions have feedback that will guide you to the correct answer, while others will have hidden tests that do not provide feedback. For those that do not have feedback, the `ok.grade` cell will say 100% passed, as long as you put one of the possible choices. **100% passed does not necessarily mean you got the question right!**"
   ]
  },
  {
   "cell_type": "markdown",
   "metadata": {},
   "source": [
    "**Consider the `total_infected` and the `total_deaths` tables in the code cell below. The `total_infected` table\n",
    "lists Wheaton's county (DuPage) with it's surrounding counties, and the total of their population who have or had COVID-19. The `total_deaths`\n",
    "table also provides the total number of deaths from COVID-19 in each county.**\n",
    "\n",
    "*Note: These values were gathered on Feb 16, 2021 from coronavirus.jhu.edu*"
   ]
  },
  {
   "cell_type": "code",
   "execution_count": null,
   "metadata": {},
   "outputs": [],
   "source": [
    "# Run this cell to load the table\n",
    "total_infected = Table().with_columns(\n",
    "    'County', make_array('Cook','DuPage',  'Kane', 'Kendall'),\n",
    "    'total infections', make_array(466422, 74991,  49669, 10793)\n",
    ")\n",
    "total_deaths = Table().with_columns(\n",
    "    'county', make_array('DuPage', 'Will','Cook',  'Kane'),\n",
    "    'total deaths', make_array(1156, 873, 9159,  700)\n",
    ")"
   ]
  },
  {
   "cell_type": "code",
   "execution_count": null,
   "metadata": {},
   "outputs": [],
   "source": [
    "# Run this cell to show the table\n",
    "total_infected"
   ]
  },
  {
   "cell_type": "code",
   "execution_count": null,
   "metadata": {},
   "outputs": [],
   "source": [
    "# Run this cell to show the table\n",
    "total_deaths"
   ]
  },
  {
   "cell_type": "markdown",
   "metadata": {},
   "source": [
    "**A. Assign `answer_A` to an array of integers of all lines of code that are valid (if you think 1 and 2 are valid, make an array with the numbers 1 and 2):** \n",
    "\n",
    "1. `total_infected.join('County', total_deaths, 'county')`</li>\n",
    "2. `total_infected.join('County', total_deaths)`</li>\n",
    "3. `total_deaths.join('County', total_infected, 'city')`</li>\n",
    "4. `total_deaths.join('county', total_infected, 'County')`</li>\n",
    "\n",
    "<!--\n",
    "BEGIN QUESTION\n",
    "name: qA\n",
    "manual: false\n",
    "-->"
   ]
  },
  {
   "cell_type": "code",
   "execution_count": null,
   "metadata": {},
   "outputs": [],
   "source": [
    "answer_A = make_array(...)"
   ]
  },
  {
   "cell_type": "code",
   "execution_count": null,
   "metadata": {},
   "outputs": [],
   "source": [
    "ok.grade(\"qA\");"
   ]
  },
  {
   "cell_type": "markdown",
   "metadata": {},
   "source": [
    "**B. Are any data lost when joining the** `total_infected` **and** `total_deaths` **tables by `county`? Why or why not?**\n",
    "\n",
    "<ol>\n",
    "    <li>No; the resulting table will contain data from both tables. Counties that only exist in one table will have a value of 0 in the column that comes from the other table.</li>\n",
    "    <li>Yes; only counties contained in both tables are preserved by the join operation.</li>\n",
    "</ol>\n",
    "\n",
    "<!--\n",
    "BEGIN QUESTION\n",
    "name: qB\n",
    "manual: false\n",
    "-->"
   ]
  },
  {
   "cell_type": "code",
   "execution_count": null,
   "metadata": {},
   "outputs": [],
   "source": [
    "answer_B = ..."
   ]
  },
  {
   "cell_type": "code",
   "execution_count": null,
   "metadata": {},
   "outputs": [],
   "source": [
    "ok.grade(\"qB\");"
   ]
  },
  {
   "cell_type": "markdown",
   "metadata": {},
   "source": [
    "**Bc. Consider the first few rows of the `drinks` table:**\n",
    "\n",
    "<img src=\"tbl_examples.png\" width=200 height=200 />\n"
   ]
  },
  {
   "cell_type": "markdown",
   "metadata": {},
   "source": [
    "**Nancy wants to find the average price of drinks at each cafe. Should she use `group` or `pivot`?**\n",
    "\n",
    "1. `group`\n",
    "2. `pivot`\n",
    "\n",
    "<!--\n",
    "BEGIN QUESTION\n",
    "name: qB\n",
    "manual: false\n",
    "-->"
   ]
  },
  {
   "cell_type": "code",
   "execution_count": 20,
   "metadata": {},
   "outputs": [],
   "source": [
    "answer_B = ..."
   ]
  },
  {
   "cell_type": "code",
   "execution_count": null,
   "metadata": {},
   "outputs": [],
   "source": [
    "ok.grade(\"qC\");"
   ]
  },
  {
   "cell_type": "markdown",
   "metadata": {},
   "source": [
    "### Run the submit cell to receive credit!"
   ]
  },
  {
   "cell_type": "code",
   "execution_count": null,
   "metadata": {},
   "outputs": [],
   "source": [
    "_ = ok.submit()"
   ]
  }
 ],
 "metadata": {
  "kernelspec": {
   "display_name": "Python 3",
   "language": "python",
   "name": "python3"
  },
  "language_info": {
   "codemirror_mode": {
    "name": "ipython",
    "version": 3
   },
   "file_extension": ".py",
   "mimetype": "text/x-python",
   "name": "python",
   "nbconvert_exporter": "python",
   "pygments_lexer": "ipython3",
   "version": "3.8.5"
  }
 },
 "nbformat": 4,
 "nbformat_minor": 1
}

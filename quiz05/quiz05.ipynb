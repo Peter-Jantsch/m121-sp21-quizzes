{
 "cells": [
  {
   "cell_type": "code",
   "execution_count": null,
   "metadata": {},
   "outputs": [],
   "source": [
    "# Initialize OK\n",
    "from client.api.notebook import Notebook\n",
    "ok = Notebook('quiz05.ok')"
   ]
  },
  {
   "cell_type": "markdown",
   "metadata": {},
   "source": [
    "# Quiz 5"
   ]
  },
  {
   "cell_type": "code",
   "execution_count": null,
   "metadata": {},
   "outputs": [],
   "source": [
    "# Don't change this cell; just run it. \n",
    "# When you log-in please hit return (not shift + return) after typing in your email\n",
    "from client.api.notebook import Notebook\n",
    "import feedback\n",
    "ok = Notebook('quiz05.ok')"
   ]
  },
  {
   "cell_type": "markdown",
   "metadata": {},
   "source": [
    "### **Note**: Some questions have feedback that will guide you to the correct answer, while others will have hidden tests that do not provide feedback. For those that do not have feedback, the `ok.grade` cell will say 100% passed, as long as you put one of the possible choices. **100% passed does not necessarily mean you got the question right!**\n",
    "\n",
    "**Submission**: Once you're finished run the submit cell at the end. The result will contain a link that you can use to check that your assignment has been submitted successfully. "
   ]
  },
  {
   "cell_type": "markdown",
   "metadata": {},
   "source": [
    "Consider the following table `temperatures`:\n",
    "\n",
    "| Date       | min_temp | max_temp |\n",
    "|------------|----------|----------|\n",
    "| 2020-05-01 | 44       | 68       |\n",
    "| 2020-05-02 | 49       | 72       |\n",
    "| 2020-05-03 | 45       | 67       |\n",
    "| 2020-05-04 | 47       | 66       |\n",
    "| 2020-05-05 | 48       | 64       |\n",
    "| 2020-05-06 | 42       | 62       |\n",
    "| 2020-05-07 | 50       | 65       |"
   ]
  },
  {
   "cell_type": "markdown",
   "metadata": {},
   "source": [
    "**A. Which of these options produces this table? Assign `answer_A` to 1, 2, or 3.**\n",
    "\n",
    "| Date       | min_temp | max_temp | temp_diff |\n",
    "|------------|----------|----------|-----------|\n",
    "| 2020-05-01 | 44       | 68       | 24        |\n",
    "| 2020-05-02 | 49       | 72       | 23        |\n",
    "| 2020-05-03 | 45       | 67       | 22        |\n",
    "| 2020-05-04 | 47       | 66       | 19        |\n",
    "| 2020-05-05 | 48       | 64       | 16        |\n",
    "| 2020-05-06 | 42       | 62       | 20        |\n",
    "| 2020-05-07 | 50       | 65       | 15        |\n",
    "\n",
    "1. `temperatures.with_column(\"temp_diff\", max_temp - min_temp)`\n",
    "\n",
    "\n",
    "2. `temperatures.with_column(\"temp_diff\", abs(temperatures.with_column(min_temp) - temperatures.with_column(max_temp)))`\n",
    "\n",
    "\n",
    "3. `temperatures.with_column(\"temp_diff\", temperatures.column(\"max_temp\") - temperatures.column(\"min_temp\"))`\n",
    "\n",
    "<!--\n",
    "BEGIN QUESTION\n",
    "name: qA\n",
    "manual: false\n",
    "-->"
   ]
  },
  {
   "cell_type": "code",
   "execution_count": null,
   "metadata": {},
   "outputs": [],
   "source": [
    "answer_A = ..."
   ]
  },
  {
   "cell_type": "code",
   "execution_count": null,
   "metadata": {},
   "outputs": [],
   "source": [
    "ok.grade(\"qA\");"
   ]
  },
  {
   "cell_type": "markdown",
   "metadata": {},
   "source": [
    "**B. Recall the `census` table from lecture:**\n",
    "\n",
    "<img src=\"census_tbl.png\" width=300 height=300 />\n",
    "\n",
    "**Is the `SEX` variable categorical or numerical? Assign `answer_B` to either 1 or 2.**\n",
    "<ol>\n",
    "    <li>categorical</li>\n",
    "    <li>numerical</li>\n",
    "</ol>\n",
    "\n",
    "<!--\n",
    "BEGIN QUESTION\n",
    "name: qB\n",
    "manual: false\n",
    "-->"
   ]
  },
  {
   "cell_type": "code",
   "execution_count": null,
   "metadata": {},
   "outputs": [],
   "source": [
    "answer_B = ..."
   ]
  },
  {
   "cell_type": "code",
   "execution_count": null,
   "metadata": {},
   "outputs": [],
   "source": [
    "ok.grade(\"qB\");"
   ]
  },
  {
   "cell_type": "markdown",
   "metadata": {},
   "source": [
    "**C. Robbie is trying to create a new table that only shows data on males between the ages of 97 and 100, inclusive. As a reminder, sex of 1 is male and sex of 2 is female. Which line of code could he use? Assign answer_C to 1,2,3, or 4(s)**\n",
    "\n",
    "*Hint: Check out the [Python Reference](https://math-121-spring-21.github.io/python-reference.html) guide for information on `table.where()` predicates.*\n",
    "\n",
    "1. `census.where('SEX', are.equal_to(1)).where('AGE', are.between(97, 100))`\n",
    "2. `census.where('SEX', are.equal_to(1)).where('AGE', are.between(97, 101))`\n",
    "3. `census.where('SEX', are.equal_to(1), 'AGE', are.between(97, 100))`\n",
    "4. `census.where('SEX', are.equal_to(1), 'AGE', are.between(97, 101))`\n",
    "\n",
    "<!--\n",
    "BEGIN QUESTION\n",
    "name: qB\n",
    "manual: false\n",
    "-->"
   ]
  },
  {
   "cell_type": "code",
   "execution_count": null,
   "metadata": {},
   "outputs": [],
   "source": [
    "answer_C = ..."
   ]
  },
  {
   "cell_type": "code",
   "execution_count": null,
   "metadata": {},
   "outputs": [],
   "source": [
    "ok.grade(\"qC\");"
   ]
  },
  {
   "cell_type": "code",
   "execution_count": null,
   "metadata": {},
   "outputs": [],
   "source": [
    "_ = ok.submit()"
   ]
  }
 ],
 "metadata": {
  "kernelspec": {
   "display_name": "Python 3",
   "language": "python",
   "name": "python3"
  },
  "language_info": {
   "codemirror_mode": {
    "name": "ipython",
    "version": 3
   },
   "file_extension": ".py",
   "mimetype": "text/x-python",
   "name": "python",
   "nbconvert_exporter": "python",
   "pygments_lexer": "ipython3",
   "version": "3.8.5"
  }
 },
 "nbformat": 4,
 "nbformat_minor": 1
}

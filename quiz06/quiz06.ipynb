{
 "cells": [
  {
   "cell_type": "code",
   "execution_count": null,
   "metadata": {},
   "outputs": [],
   "source": [
    "# Initialize OK\n",
    "from client.api.notebook import Notebook\n",
    "ok = Notebook('quiz06.ok')"
   ]
  },
  {
   "cell_type": "markdown",
   "metadata": {},
   "source": [
    "# Quiz 6"
   ]
  },
  {
   "cell_type": "code",
   "execution_count": null,
   "metadata": {},
   "outputs": [],
   "source": [
    "# Don't change this cell; just run it. \n",
    "# When you log-in please hit return (not shift + return) after typing in your email\n",
    "from client.api.notebook import Notebook\n",
    "import feedback\n",
    "ok = Notebook('quiz06.ok')"
   ]
  },
  {
   "cell_type": "markdown",
   "metadata": {},
   "source": [
    "### **Note**: Some questions have feedback that will guide you to the correct answer, while others will have hidden tests that do not provide feedback. For those that do not have feedback, the `ok.grade` cell will say 100% passed, as long as you put one of the possible choices. **100% passed does not necessarily mean you got the question right!**\n",
    "\n",
    "\n",
    "**Submission**: Once you're finished, select \"Save and Checkpoint\" in the File menu and then run the submit cell at the end. The result will contain a link that you can use to check that your assignment has been submitted successfully. "
   ]
  },
  {
   "cell_type": "markdown",
   "metadata": {},
   "source": [
    "For the following questions, consider the `temperatures` table:\n",
    "\n",
    "| Date       | min_temp | max_temp | temp_diff | forecast |\n",
    "|------------|----------|----------|-----------|----------|\n",
    "| 2020-05-01 | 44       | 68       | 24        | 0        |\n",
    "| 2020-05-02 | 49       | 72       | 23        | 2        | \n",
    "| 2020-05-03 | 45       | 67       | 22        | 1        |\n",
    "| 2020-05-04 | 47       | 66       | 19        | 0        |\n",
    "| 2020-05-05 | 48       | 64       | 16        | 1        |\n"
   ]
  },
  {
   "cell_type": "markdown",
   "metadata": {},
   "source": [
    "**A. In this class, our criteria for scatter plots is that they are usually used to visualize two numerical variables, whereas line plots are used to visualize chronological trends or patterns. What kind of plot should be used to visualize the relationship between *Date* and *temp_diff*?** \n",
    "<ol>\n",
    "    <li>Scatter plot</li>\n",
    "    <li>Line plot</li>\n",
    "</ol>\n",
    "\n",
    "\n",
    "<!--\n",
    "BEGIN QUESTION\n",
    "name: qA\n",
    "manual: false\n",
    "-->"
   ]
  },
  {
   "cell_type": "code",
   "execution_count": null,
   "metadata": {},
   "outputs": [],
   "source": [
    "answer_A = ..."
   ]
  },
  {
   "cell_type": "code",
   "execution_count": null,
   "metadata": {},
   "outputs": [],
   "source": [
    "ok.grade(\"qA\");"
   ]
  },
  {
   "cell_type": "markdown",
   "metadata": {},
   "source": [
    "**B. What kind of plot should be used to visualize the relationship between *min_temp* and *max_temp*?** \n",
    "<ol>\n",
    "    <li>Scatter plot</li>\n",
    "    <li>Line plot</li>\n",
    "</ol>\n",
    "    \n",
    "<!--\n",
    "BEGIN QUESTION\n",
    "name: qB\n",
    "manual: false\n",
    "-->"
   ]
  },
  {
   "cell_type": "code",
   "execution_count": null,
   "metadata": {},
   "outputs": [],
   "source": [
    "answer_B = ..."
   ]
  },
  {
   "cell_type": "code",
   "execution_count": null,
   "metadata": {},
   "outputs": [],
   "source": [
    "ok.grade(\"qB\");"
   ]
  },
  {
   "cell_type": "markdown",
   "metadata": {},
   "source": [
    "**C. The predicted forcast of each `Date` was recorded in the `forecast` column: 0 corresponds to sunny, 1 to cloudy, and 2 to rainy.\n",
    "Is *forecast* a numerical or a categorical variable?**\n",
    "<ol>\n",
    "    <li>Numerical</li>\n",
    "    <li>Categorical</li>\n",
    "</ol>\n",
    "      \n",
    "<!--\n",
    "BEGIN QUESTION\n",
    "name: qC\n",
    "manual: false\n",
    "-->"
   ]
  },
  {
   "cell_type": "code",
   "execution_count": null,
   "metadata": {},
   "outputs": [],
   "source": [
    "answer_C = ..."
   ]
  },
  {
   "cell_type": "code",
   "execution_count": null,
   "metadata": {},
   "outputs": [],
   "source": [
    "ok.grade(\"qC\");"
   ]
  },
  {
   "cell_type": "markdown",
   "metadata": {},
   "source": [
    "**D. Robbie is trying to create a new table that only shows data on males between the ages of 97 and 100, inclusive. As a reminder, sex of 1 is male and sex of 2 is female. Which line of code could he use? Assign answer_D to 1,2,3, or 4**\n",
    "\n",
    "*Hint: Check out the [Python Reference](https://math-121-spring-21.github.io/python-reference.html) guide for information on `table.where()` predicates.*\n",
    "\n",
    "1. `census.where('SEX', are.equal_to(1)).where('AGE', are.between(97, 100))`\n",
    "2. `census.where('SEX', are.equal_to(1)).where('AGE', are.between(97, 101))`\n",
    "3. `census.where('SEX', are.equal_to(1), 'AGE', are.between(97, 100))`\n",
    "4. `census.where('SEX', are.equal_to(1), 'AGE', are.between(97, 101))`\n",
    "\n",
    "<!--\n",
    "BEGIN QUESTION\n",
    "name: qD\n",
    "manual: false\n",
    "-->"
   ]
  },
  {
   "cell_type": "code",
   "execution_count": null,
   "metadata": {},
   "outputs": [],
   "source": [
    "answer_D = ..."
   ]
  },
  {
   "cell_type": "markdown",
   "metadata": {},
   "source": [
    "### Run the submit cell to receive credit!"
   ]
  },
  {
   "cell_type": "code",
   "execution_count": null,
   "metadata": {},
   "outputs": [],
   "source": [
    "_ = ok.submit()"
   ]
  }
 ],
 "metadata": {
  "kernelspec": {
   "display_name": "Python 3",
   "language": "python",
   "name": "python3"
  },
  "language_info": {
   "codemirror_mode": {
    "name": "ipython",
    "version": 3
   },
   "file_extension": ".py",
   "mimetype": "text/x-python",
   "name": "python",
   "nbconvert_exporter": "python",
   "pygments_lexer": "ipython3",
   "version": "3.8.5"
  }
 },
 "nbformat": 4,
 "nbformat_minor": 1
}
